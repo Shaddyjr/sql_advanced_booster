{
 "cells": [
  {
   "cell_type": "markdown",
   "metadata": {},
   "source": [
    "# Advanced SQL I and II Review Session Questions\n",
    "\n",
    "#### By: Boom (DSI-NYC), Mahdi S. (DSI-NYC)"
   ]
  },
  {
   "cell_type": "markdown",
   "metadata": {},
   "source": [
    "### Step #1 - create the `employees` table\n",
    "Within this repo is a `employees.txt` file, which contains the SQL code to create the `employees` table and populate it with data"
   ]
  },
  {
   "cell_type": "markdown",
   "metadata": {},
   "source": [
    "### Step #2 - Answer the following questions"
   ]
  },
  {
   "cell_type": "markdown",
   "metadata": {},
   "source": [
    "### 1) Write a query that returns two columns: (i) the e-mail addresses but only for those that end in '.edu' and (ii) an indication of whether or not the employee works in the Games, Phones & Tablets, Toys department."
   ]
  },
  {
   "cell_type": "markdown",
   "metadata": {},
   "source": [
    "```sql\n",
    "SELECT e.email, e.department IN ('Games', 'Phones & Tablets', 'Toys') \n",
    "FROM employees AS e\n",
    "WHERE e.email LIKE '%.edu'\n",
    "```"
   ]
  },
  {
   "cell_type": "markdown",
   "metadata": {},
   "source": [
    "### 2) Write a query that shows the first name (in all lower case), the last name (in all upper case), and email for all people who work in region_id = 1. However, if an e-mail is missing, replace it with the string 'Not available'."
   ]
  },
  {
   "cell_type": "markdown",
   "metadata": {},
   "source": [
    "```sql\n",
    "SELECT LOWER(e.first_name), UPPER(e.last_name), COALESCE(email, 'Not available')\n",
    "FROM employees AS e\n",
    "WHERE e.region_id = 1\n",
    "```"
   ]
  },
  {
   "cell_type": "markdown",
   "metadata": {},
   "source": [
    "### 3) Write a query that combines first name and last name of each female employee into a single column, and categorizes them into 'High Tier' salary (>100,000), 'Middle Tier' salary (b/w 70,000 - 100,000), 'Low Tier' salary (<70,000)."
   ]
  },
  {
   "cell_type": "markdown",
   "metadata": {},
   "source": [
    "```sql\n",
    "SELECT e.first_name || ' ' || e.last_name AS full_name,\n",
    "\tCASE\n",
    "\t\tWHEN salary > 100000 THEN 'High Tier'\n",
    "\t\tWHEN salary BETWEEN 70000 AND 100000 THEN 'Middle Tier'\n",
    "\t\tELSE 'Low Tier'\n",
    "\tEND AS tier\n",
    "FROM employees AS e\n",
    "WHERE e.gender = 'F'\n",
    "```"
   ]
  },
  {
   "cell_type": "markdown",
   "metadata": {},
   "source": [
    "### 4) Write a query that finds all employees who work in the United States and Canada who were hired in the year 2013."
   ]
  },
  {
   "cell_type": "markdown",
   "metadata": {},
   "source": [
    "```sql\n",
    "SELECT *\n",
    "FROM employees AS e\n",
    "JOIN regions AS r ON e.region_id = r.region_id\n",
    "WHERE r.country IN ('Canada', 'United States') AND EXTRACT(year FROM e.hire_date) = 2013\n",
    "```"
   ]
  },
  {
   "cell_type": "markdown",
   "metadata": {},
   "source": [
    "### 5) Write a query that returns the most common first name(s) in the company. You need to account for ties, so you should not be using ORDER BY and LIMIT 1 here."
   ]
  },
  {
   "cell_type": "markdown",
   "metadata": {},
   "source": [
    "```sql\n",
    "SELECT e.first_name, COUNT(*) AS total\n",
    "FROM employees AS e\n",
    "GROUP BY e.first_name\n",
    "HAVING COUNT(e.employee_id) >= ALL(SELECT COUNT(*)\n",
    "\t\t\t\t\t\t\t\t   FROM employees\n",
    "\t\t\t\t\t\t\t\t   GROUP BY first_name)\n",
    "```"
   ]
  },
  {
   "cell_type": "markdown",
   "metadata": {},
   "source": [
    "### 6) Write a SQL query that returns the first name and email of all employees who have the SECOND HIGHEST salary in the company."
   ]
  },
  {
   "cell_type": "markdown",
   "metadata": {},
   "source": [
    "```sql\n",
    "SELECT e.first_name, e.email\n",
    "FROM employees AS e\n",
    "WHERE e.salary = (\n",
    "\tSELECT emp.salary\n",
    "\tFROM employees AS emp\n",
    "\tORDER BY salary DESC\n",
    "\tLIMIT 1 OFFSET 1\n",
    ")\n",
    "```"
   ]
  },
  {
   "cell_type": "markdown",
   "metadata": {},
   "source": [
    "### 7) Write a query that gives the mean salary of all employees that were hired in March of any given year."
   ]
  },
  {
   "cell_type": "markdown",
   "metadata": {},
   "source": [
    "```sql\n",
    "SELECT EXTRACT(year FROM e.hire_date) AS year, ROUND(AVG(e.salary), 2) AS march_hires_avg_salary\n",
    "FROM employees AS e\n",
    "WHERE EXTRACT(month FROM e.hire_date) = 3\n",
    "GROUP BY EXTRACT(year FROM e.hire_date)\n",
    "ORDER BY year DESC\n",
    "```"
   ]
  }
 ],
 "metadata": {
  "kernelspec": {
   "display_name": "Python 3",
   "language": "python",
   "name": "python3"
  },
  "language_info": {
   "codemirror_mode": {
    "name": "ipython",
    "version": 3
   },
   "file_extension": ".py",
   "mimetype": "text/x-python",
   "name": "python",
   "nbconvert_exporter": "python",
   "pygments_lexer": "ipython3",
   "version": "3.7.3"
  }
 },
 "nbformat": 4,
 "nbformat_minor": 4
}
